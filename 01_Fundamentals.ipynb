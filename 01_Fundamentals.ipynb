{
 "cells": [
  {
   "cell_type": "markdown",
   "metadata": {
    "id": "nCWQFSXNJTnl"
   },
   "source": [
    "<h1>Day 1: Quantum Computing Fundamentals</h1>\n",
    "<p><b>Workshop for the Computer Engineering Department, University of Tripoli</b></p>\n",
    "<p><i>Prepared by Abdulmalek Baitulmal with Gemini</i></p>\n",
    "<p><i>Corrected by Feras Shita</i></p>"
   ]
  },
  {
   "cell_type": "markdown",
   "metadata": {
    "id": "pwP97G23JTnn"
   },
   "source": [
    "## 🛠️ Setup: Installing & Verifying Libraries\n",
    "\n",
    "This first code cell is very important. It will perform an installation of Qiskit 1.4.4 and its dependencies to ensure all components are compatible and avoid version conflicts."
   ]
  },
  {
   "cell_type": "code",
   "metadata": {
    "colab": {
     "base_uri": "https://localhost:8080/"
    },
    "id": "3wWhNUeYJTno",
    "outputId": "888bd8f9-3009-4a92-8dba-989e84bf6515"
   },
   "source": [
    "# I you have any problem with imports please uncomment bellow code\n",
    "#!pip uninstall -y qiskit qiskit-terra qiskit-aer qiskit-ibmq-provider qiskit-ibm-provider\n",
    "\n",
    "# Install the latest stable version of Qiskit and its required dependencies\n",
    "!pip install qiskit==1.4.4 qiskit-aer pylatexenc\n"
   ],
   "outputs": [],
   "execution_count": null
  },
  {
   "cell_type": "markdown",
   "metadata": {
    "id": "durQcKPRJTno"
   },
   "source": [
    "### Core Imports\n",
    "\n",
    "Now that our environment is clean, we'll import all the tools we need for this session. If the cell above worked and you restarted the kernel, this should run without errors."
   ]
  },
  {
   "cell_type": "code",
   "metadata": {
    "colab": {
     "base_uri": "https://localhost:8080/"
    },
    "id": "iRFZYsTNJTnp",
    "outputId": "72f8bc11-cf1d-4f57-801a-e1486f2c3836"
   },
   "source": [
    "# Core Qiskit components\n",
    "from qiskit import QuantumCircuit\n",
    "from qiskit_aer import AerSimulator\n",
    "from qiskit.quantum_info import Statevector\n",
    "from qiskit.visualization import visualize_transition\n",
    "\n",
    "\n",
    "# Visualization tools\n",
    "from qiskit.visualization import plot_bloch_multivector, plot_histogram\n",
    "\n",
    "# Standard library for math\n",
    "import numpy as np\n",
    "\n",
    "# Let's check the version to confirm\n",
    "import qiskit\n",
    "print(f\"Qiskit Version: {qiskit.__version__}\")"
   ],
   "outputs": [],
   "execution_count": null
  },
  {
   "cell_type": "markdown",
   "metadata": {
    "id": "epa1jdXjJTnq"
   },
   "source": [
    "<table width=\"100%\"><tr><td style=\"color:#bbbbbb;background-color:#ffffff;font-size:11px;font-style:italic;text-align:right;\">This cell contains LaTeX macros for prettier math formulas.</td></tr></table>\n",
    "$ \\newcommand{\\bra}[1]{\\langle #1|} $\n",
    "$ \\newcommand{\\ket}[1]{|#1\\rangle} $"
   ]
  },
  {
   "cell_type": "markdown",
   "metadata": {
    "id": "M6bHZzVcJTnq"
   },
   "source": [
    "## Part 1: The Basics of Quantum States\n",
    "\n",
    "Welcome! In this first section, we'll build our understanding from the ground up, starting with the qubit and exploring the unique quantum properties that make it so powerful."
   ]
  },
  {
   "cell_type": "markdown",
   "metadata": {
    "id": "d8cSUt4JJTnr"
   },
   "source": [
    "### From Classical Bits to Quantum Qubits\n",
    "\n",
    "In classical computing, the **bit** is the fundamental unit of information, existing in one of two definite states: **0** or **1**. Quantum computing introduces the **qubit**, which can also be in the state $\\ket{0}$ or $\\ket{1}$. We visualize these as the North and South poles of the **Bloch Sphere**."
   ]
  },
  {
   "cell_type": "code",
   "metadata": {
    "colab": {
     "base_uri": "https://localhost:8080/",
     "height": 468
    },
    "id": "4eN-AFqEJTnr",
    "outputId": "8735f107-2656-477e-d96a-2498a67a3cd7"
   },
   "source": [
    "# A qubit always initializes in the |0> state\n",
    "qc = QuantumCircuit(1)\n",
    "state = Statevector.from_instruction(qc)\n",
    "\n",
    "# Let's visualize our qubit on the Bloch Sphere\n",
    "display(plot_bloch_multivector(state, title=\"Initial State of a Qubit\"))"
   ],
   "outputs": [],
   "execution_count": null
  },
  {
   "cell_type": "markdown",
   "metadata": {
    "id": "UN3zLjkwJTnr"
   },
   "source": [
    "### Superposition: The Quantum 'Both'\n",
    "\n",
    "A qubit can exist in a combination of both $\\ket{0}$ and $\\ket{1}$ at the same time—a property called **superposition**. We use a **Hadamard gate (H-gate)** to create this state."
   ]
  },
  {
   "cell_type": "code",
   "metadata": {
    "colab": {
     "base_uri": "https://localhost:8080/",
     "height": 1000
    },
    "id": "lshnU9gnJTns",
    "outputId": "1b879ac5-2bd7-42a1-f256-a489afe5ad6c"
   },
   "source": [
    "qc = QuantumCircuit(1)\n",
    "qc.h(0)\n",
    "\n",
    "# Let's see the new state on the equator of the Bloch Sphere\n",
    "state = Statevector.from_instruction(qc)\n",
    "display(plot_bloch_multivector(state, title=\"Qubit in Superposition\"))\n",
    "visualize_transition(qc)"
   ],
   "outputs": [],
   "execution_count": null
  },
  {
   "cell_type": "markdown",
   "metadata": {
    "id": "2Di1S5WfJTns"
   },
   "source": [
    "### Measurement: Collapsing the Possibilities\n",
    "\n",
    "When we **measure** a qubit in superposition, it randomly collapses to a classical state of either 0 or 1. For an equal superposition, we expect a 50/50 probability distribution."
   ]
  },
  {
   "cell_type": "code",
   "metadata": {
    "colab": {
     "base_uri": "https://localhost:8080/",
     "height": 677
    },
    "id": "lYaSNST5JTns",
    "outputId": "65ce7425-1099-4ea4-a899-3ae15fad28ab"
   },
   "source": [
    "# Create a circuit with 1 qubit and 1 classical bit to hold the measurement\n",
    "qc = QuantumCircuit(1, 1)\n",
    "qc.h(0)\n",
    "qc.measure(0, 0)\n",
    "\n",
    "print(\"Circuit Diagram:\")\n",
    "display(qc.draw('mpl'))\n",
    "\n",
    "# Initialize the simulator\n",
    "simulator = AerSimulator()\n",
    "\n",
    "# Run the circuit 1024 times\n",
    "job = simulator.run(qc, shots=1024)\n",
    "result = job.result()\n",
    "counts = result.get_counts(qc)\n",
    "\n",
    "# Show the results\n",
    "print(f\"\\nMeasurement Results: {counts}\")\n",
    "display(plot_histogram(counts, title='Results of Measuring a Superposition'))"
   ],
   "outputs": [],
   "execution_count": null
  },
  {
   "cell_type": "markdown",
   "metadata": {
    "id": "pBJXktxbJTns"
   },
   "source": [
    "---"
   ]
  },
  {
   "cell_type": "markdown",
   "metadata": {
    "id": "dcKBV0wmJTns"
   },
   "source": [
    "## Part 2: A Visual Tour of Single-Qubit Gates\n",
    "\n",
    "**Quantum gates** are operations that manipulate a qubit's state, which we can visualize as rotations on the Bloch Sphere."
   ]
  },
  {
   "cell_type": "markdown",
   "metadata": {
    "id": "Rnl1TU_1JTnt"
   },
   "source": [
    "### The Pauli Gates: Quantum Flips\n",
    "\n",
    "The Pauli gates are fundamental operations that perform 180-degree rotations around the axes of the Bloch Sphere.\n",
    "\n",
    "* **X-gate**: The quantum **NOT** gate. Rotates around the x-axis, flipping $\\ket{0} \\leftrightarrow \\ket{1}$.\n",
    "* **Y-gate**: Rotates around the y-axis.\n",
    "* **Z-gate**: Rotates around the z-axis, inducing a phase flip. A purely quantum effect!"
   ]
  },
  {
   "cell_type": "code",
   "metadata": {
    "colab": {
     "base_uri": "https://localhost:8080/",
     "height": 1000
    },
    "id": "0aL8ATfOJTnt",
    "outputId": "275f0c81-304f-4751-9145-05e7945a4ca4"
   },
   "source": [
    "# Start with |0> and apply the X-gate\n",
    "qc_x = QuantumCircuit(1)\n",
    "qc_x.x(0)\n",
    "state_x = Statevector.from_instruction(qc_x)\n",
    "display(plot_bloch_multivector(state_x, title=\"Effect of X-Gate on |0>\"))\n",
    "visualize_transition(qc_x)\n",
    "\n",
    "# Start in superposition and apply the Z-gate\n",
    "qc_z = QuantumCircuit(1)\n",
    "qc_z.h(0)\n",
    "qc_z.z(0)\n",
    "state_z = Statevector.from_instruction(qc_z)\n",
    "display(plot_bloch_multivector(state_z, title=\"Effect of Z-Gate on Superposition\"))\n",
    "visualize_transition(qc_z)"
   ],
   "outputs": [],
   "execution_count": null
  },
  {
   "cell_type": "markdown",
   "metadata": {
    "id": "UnQSUC6dJTnt"
   },
   "source": [
    "### Rotation Gates: Fine-Tuning the State\n",
    "\n",
    "What if we need more precise control? Rotation gates allow us to rotate the qubit's state by any angle we choose.\n",
    "\n",
    "* **RX-gate**: Rotates around the x-axis by a given angle.\n",
    "* **RY-gate**: Rotates around the y-axis by a given angle.\n",
    "* **RZ-gate**: Rotates around the z-axis by a given angle."
   ]
  },
  {
   "metadata": {
    "colab": {
     "base_uri": "https://localhost:8080/",
     "height": 1000
    },
    "id": "EyiBge3_JTnt",
    "outputId": "0238c8a6-b15c-43ac-9fed-fdec4699eb24"
   },
   "cell_type": "code",
   "source": [
    "# Start with |0>\n",
    "qc = QuantumCircuit(1)\n",
    "\n",
    "# Let's rotate by PI/3 radians (60 degrees) around the Y-axis\n",
    "angle = np.pi / 2\n",
    "qc.ry(angle, 0)\n",
    "\n",
    "# Visualize the result\n",
    "state = Statevector.from_instruction(qc)\n",
    "display(plot_bloch_multivector(state, title=\"Rotation by π/3 around Y-axis\"))\n",
    "visualize_transition(qc)"
   ],
   "outputs": [],
   "execution_count": null
  },
  {
   "cell_type": "markdown",
   "metadata": {
    "id": "dc7ViEs4JTnu"
   },
   "source": [
    "---"
   ]
  },
  {
   "cell_type": "markdown",
   "metadata": {
    "id": "w78xpJ2dJTnu"
   },
   "source": [
    "## Part 3: The Leap to Multiple Qubits & Entanglement\n",
    "\n",
    "The true power of quantum computing emerges when qubits interact. Multi-qubit gates create these interactions."
   ]
  },
  {
   "cell_type": "markdown",
   "metadata": {
    "id": "2JhFG7O0JTnu"
   },
   "source": [
    "### The CNOT Gate: A Quantum IF Statement\n",
    "\n",
    "The **Controlled-NOT (CNOT)** gate uses a **control** qubit to conditionally apply an X-gate to a **target** qubit.\n",
    "\n",
    "> **IF** the control qubit is $\\ket{1}$, **THEN** flip the target qubit."
   ]
  },
  {
   "cell_type": "code",
   "metadata": {
    "colab": {
     "base_uri": "https://localhost:8080/",
     "height": 307
    },
    "id": "Qab89VVgJTnu",
    "outputId": "9caaa9d7-bba1-47b4-ced6-43292f2aaccd"
   },
   "source": [
    "qc = QuantumCircuit(2, 2)\n",
    "\n",
    "# Set the control qubit (q0) to |1>\n",
    "qc.x(0)\n",
    "\n",
    "# Apply CNOT: control=q0, target=q1\n",
    "qc.cx(0, 1)\n",
    "qc.measure([0,1], [0,1])\n",
    "\n",
    "print(\"Circuit Diagram:\")\n",
    "display(qc.draw('mpl'))\n",
    "\n",
    "# Run the circuit. Initial state was |10>, final should be |11>\n",
    "job = simulator.run(qc, shots=1)\n",
    "result = job.result()\n",
    "counts = result.get_counts()\n",
    "print(f\"\\nResult: {counts}\")"
   ],
   "outputs": [],
   "execution_count": null
  },
  {
   "cell_type": "markdown",
   "metadata": {
    "id": "t1OAlFtBJTnv"
   },
   "source": [
    "### Creating Entanglement: The Bell State\n",
    "\n",
    "**Entanglement** is a unique quantum link between qubits. We can create it with a simple recipe:\n",
    "1.  Apply a Hadamard gate to one qubit.\n",
    "2.  Apply a CNOT gate, using the first qubit as the control."
   ]
  },
  {
   "cell_type": "code",
   "metadata": {
    "colab": {
     "base_uri": "https://localhost:8080/",
     "height": 785
    },
    "id": "b1SVF61UJTnv",
    "outputId": "adb90dd7-99b4-4cee-a79e-d36d98bfb9e5"
   },
   "source": [
    "qc = QuantumCircuit(2, 2)\n",
    "\n",
    "# 1. Apply H-gate to q0\n",
    "qc.h(0)\n",
    "\n",
    "# 2. Apply CNOT with q0 as control\n",
    "qc.cx(0, 1)\n",
    "qc.measure([0,1], [0,1])\n",
    "\n",
    "print(\"Circuit for creating a Bell State:\")\n",
    "display(qc.draw('mpl'))\n",
    "\n",
    "# Run and check the results\n",
    "job = simulator.run(qc, shots=1024)\n",
    "counts = job.result().get_counts()\n",
    "print(f\"\\nResults: {counts}\")\n",
    "display(plot_histogram(counts, title='Results of Bell State Measurement'))\n",
    "print(\"\\nNotice we only get '00' or '11'. This perfect correlation is entanglement!\")"
   ],
   "outputs": [],
   "execution_count": null
  },
  {
   "cell_type": "markdown",
   "metadata": {
    "id": "7OrDb9t3JTnv"
   },
   "source": [
    "### Other Important Multi-Qubit Gates\n",
    "\n",
    "Let's briefly look at two more essential gates from your QSilver materials."
   ]
  },
  {
   "cell_type": "markdown",
   "metadata": {
    "id": "P1zbc1PDJTnv"
   },
   "source": [
    "#### The SWAP Gate\n",
    "\n",
    "The SWAP gate does exactly what its name implies: it swaps the states of two qubits. This is crucial for moving quantum information around a processor."
   ]
  },
  {
   "metadata": {
    "colab": {
     "base_uri": "https://localhost:8080/",
     "height": 307
    },
    "id": "T7WXRjsSJTnw",
    "outputId": "567e41f5-5ac1-4b7d-b6ce-2e6589807e1c"
   },
   "cell_type": "code",
   "source": [
    "qc = QuantumCircuit(2, 2)\n",
    "\n",
    "# Let's create the state |01>\n",
    "qc.x(1)\n",
    "qc.barrier()\n",
    "\n",
    "# Apply the SWAP gate\n",
    "qc.swap(0, 1)\n",
    "qc.measure([0, 1], [0, 1])\n",
    "\n",
    "print(\"SWAP Gate Circuit:\")\n",
    "display(qc.draw('mpl'))\n",
    "# to display a reversed bits order\n",
    "# display(qc.draw('mpl',reverse_bits=1))\n",
    "\n",
    "\n",
    "# Run the circuit. The state should change from |01> to |10>\n",
    "job = simulator.run(qc, shots=1)\n",
    "counts = job.result().get_counts()\n",
    "print(f\"\\nResult: {counts} (Note: Qiskit's bit order is reversed, so '01' means q1=0, q0=1)\")"
   ],
   "outputs": [],
   "execution_count": null
  },
  {
   "cell_type": "markdown",
   "metadata": {
    "id": "hx_dMKEiJTnw"
   },
   "source": [
    "#### The Toffoli Gate (CCX)\n",
    "\n",
    "The **Toffoli** gate, or Controlled-Controlled-NOT (CCX), is a three-qubit gate. It's a doubly-controlled NOT gate:\n",
    "\n",
    "> **IF** control qubit 1 is $\\ket{1}$ **AND** control qubit 2 is $\\ket{1}$, **THEN** flip the target qubit.\n",
    "\n",
    "This gate is significant because it is a **universal classical gate**, meaning it can be used to construct any classical logic function."
   ]
  },
  {
   "cell_type": "code",
   "metadata": {
    "colab": {
     "base_uri": "https://localhost:8080/",
     "height": 372
    },
    "id": "rdBoCtYXJTnw",
    "outputId": "8b63e5df-7576-49e4-b4fa-319eba273a18"
   },
   "source": [
    "qc = QuantumCircuit(3, 3)\n",
    "\n",
    "# Set both control qubits (q0, q1) to |1>\n",
    "qc.x(0)\n",
    "qc.x(1)\n",
    "\n",
    "# Apply the Toffoli gate with q0, q1 as controls and q2 as target\n",
    "qc.ccx(0, 1, 2)\n",
    "qc.measure([0,1,2], [0,1,2])\n",
    "\n",
    "print(\"Toffoli Gate Circuit:\")\n",
    "display(qc.draw('mpl'))\n",
    "\n",
    "# The initial state was |011> (q2=0, q1=1, q0=1). The final should be |111>.\n",
    "job = simulator.run(qc, shots=1)\n",
    "counts = job.result().get_counts()\n",
    "print(f\"\\nResult: {counts}\")"
   ],
   "outputs": [],
   "execution_count": null
  },
  {
   "cell_type": "markdown",
   "metadata": {
    "id": "SLPMqRVDJTnx"
   },
   "source": [
    "## End of Day 1\n",
    "\n",
    "Congratulations! You've covered the fundamental building blocks of quantum computing: Qubits, Superposition, Measurement, a full range of Single and Multi-Qubit Gates, and Entanglement. You are well-prepared for Day 2!"
   ]
  }
 ],
 "metadata": {
  "kernelspec": {
   "display_name": "Python 3",
   "language": "python",
   "name": "python3"
  },
  "language_info": {
   "codemirror_mode": {
    "name": "ipython",
    "version": 3
   },
   "file_extension": ".py",
   "mimetype": "text/x-python",
   "name": "python",
   "nbconvert_exporter": "python",
   "pygments_lexer": "ipython3",
   "version": "3.12"
  },
  "colab": {
   "provenance": []
  }
 },
 "nbformat": 4,
 "nbformat_minor": 0
}
