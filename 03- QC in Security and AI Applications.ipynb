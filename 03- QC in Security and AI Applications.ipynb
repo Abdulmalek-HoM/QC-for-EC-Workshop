{
 "cells": [
  {
   "cell_type": "markdown",
   "metadata": {},
   "source": [
    "<h1>Day 3: Impact on AI & Security</h1>\n",
    "<p><b>Workshop for the Computer Engineering Department, University of Tripoli</b></p>\n",
    "<p><i>Prepared by Abdulmalek Baitulmal with Gemini</i></p>"
   ]
  },
  {
   "cell_type": "markdown",
   "metadata": {},
   "source": [
    "## 🛠️ Setup: Installing a Stable & Consistent Qiskit Ecosystem\n",
    "\n",
    "This cell installs the specific, compatible versions of the Qiskit libraries we need for today's hands-on applications to ensure a stable environment for everyone.\n",
    "\n",
    "**Please run this cell, then RESTART THE KERNEL before proceeding.**"
   ]
  },
  {
   "metadata": {
    "ExecuteTime": {
     "end_time": "2025-09-02T07:21:39.811227Z",
     "start_time": "2025-09-02T07:21:35.800599Z"
    }
   },
   "cell_type": "code",
   "source": [
    "# Install specific, compatible library versions for this workshop\n",
    "!pip install qiskit=='1.4.4' qiskit-aer qiskit-optimization qiskit-algorithms networkx pylatexenc\n",
    "\n",
    "print(\"✅ Installation command executed.\")\n",
    "print(\"🔴 IMPORTANT: Please go to the 'Kernel' menu and select 'Restart Kernel' before running the next cell.\")"
   ],
   "outputs": [
    {
     "name": "stdout",
     "output_type": "stream",
     "text": [
      "Collecting qiskit==1.4.4\r\n",
      "  Using cached qiskit-1.4.4-cp39-abi3-macosx_11_0_arm64.whl.metadata (12 kB)\r\n",
      "Requirement already satisfied: qiskit-aer in ./.venv/lib/python3.12/site-packages (0.17.1)\r\n",
      "Requirement already satisfied: qiskit-optimization in ./.venv/lib/python3.12/site-packages (0.7.0)\r\n",
      "Requirement already satisfied: qiskit-algorithms in ./.venv/lib/python3.12/site-packages (0.4.0)\r\n",
      "Requirement already satisfied: networkx in ./.venv/lib/python3.12/site-packages (3.5)\r\n",
      "Requirement already satisfied: pylatexenc in ./.venv/lib/python3.12/site-packages (2.10)\r\n",
      "Requirement already satisfied: rustworkx>=0.15.0 in ./.venv/lib/python3.12/site-packages (from qiskit==1.4.4) (0.17.1)\r\n",
      "Requirement already satisfied: numpy<3,>=1.17 in ./.venv/lib/python3.12/site-packages (from qiskit==1.4.4) (2.3.2)\r\n",
      "Requirement already satisfied: scipy>=1.5 in ./.venv/lib/python3.12/site-packages (from qiskit==1.4.4) (1.16.1)\r\n",
      "Requirement already satisfied: sympy>=1.3 in ./.venv/lib/python3.12/site-packages (from qiskit==1.4.4) (1.14.0)\r\n",
      "Requirement already satisfied: dill>=0.3 in ./.venv/lib/python3.12/site-packages (from qiskit==1.4.4) (0.4.0)\r\n",
      "Requirement already satisfied: python-dateutil>=2.8.0 in ./.venv/lib/python3.12/site-packages (from qiskit==1.4.4) (2.9.0.post0)\r\n",
      "Requirement already satisfied: stevedore>=3.0.0 in ./.venv/lib/python3.12/site-packages (from qiskit==1.4.4) (5.4.1)\r\n",
      "Requirement already satisfied: typing-extensions in ./.venv/lib/python3.12/site-packages (from qiskit==1.4.4) (4.14.1)\r\n",
      "Requirement already satisfied: symengine<0.14,>=0.11 in ./.venv/lib/python3.12/site-packages (from qiskit==1.4.4) (0.13.0)\r\n",
      "Requirement already satisfied: psutil>=5 in ./.venv/lib/python3.12/site-packages (from qiskit-aer) (7.0.0)\r\n",
      "Requirement already satisfied: docplex!=2.24.231,>=2.21.207 in ./.venv/lib/python3.12/site-packages (from qiskit-optimization) (2.30.251)\r\n",
      "Requirement already satisfied: setuptools>=40.1.0 in ./.venv/lib/python3.12/site-packages (from qiskit-optimization) (80.9.0)\r\n",
      "Requirement already satisfied: six in ./.venv/lib/python3.12/site-packages (from docplex!=2.24.231,>=2.21.207->qiskit-optimization) (1.17.0)\r\n",
      "Requirement already satisfied: pbr>=2.0.0 in ./.venv/lib/python3.12/site-packages (from stevedore>=3.0.0->qiskit==1.4.4) (7.0.1)\r\n",
      "Requirement already satisfied: mpmath<1.4,>=1.1.0 in ./.venv/lib/python3.12/site-packages (from sympy>=1.3->qiskit==1.4.4) (1.3.0)\r\n",
      "Using cached qiskit-1.4.4-cp39-abi3-macosx_11_0_arm64.whl (6.2 MB)\r\n",
      "Installing collected packages: qiskit\r\n",
      "  Attempting uninstall: qiskit\r\n",
      "    Found existing installation: qiskit 2.1.2\r\n",
      "    Uninstalling qiskit-2.1.2:\r\n",
      "      Successfully uninstalled qiskit-2.1.2\r\n",
      "Successfully installed qiskit-1.4.4\r\n",
      "\r\n",
      "\u001B[1m[\u001B[0m\u001B[34;49mnotice\u001B[0m\u001B[1;39;49m]\u001B[0m\u001B[39;49m A new release of pip is available: \u001B[0m\u001B[31;49m25.0.1\u001B[0m\u001B[39;49m -> \u001B[0m\u001B[32;49m25.2\u001B[0m\r\n",
      "\u001B[1m[\u001B[0m\u001B[34;49mnotice\u001B[0m\u001B[1;39;49m]\u001B[0m\u001B[39;49m To update, run: \u001B[0m\u001B[32;49mpip install --upgrade pip\u001B[0m\r\n",
      "✅ Installation command executed.\n",
      "🔴 IMPORTANT: Please go to the 'Kernel' menu and select 'Restart Kernel' before running the next cell.\n"
     ]
    }
   ],
   "execution_count": 6
  },
  {
   "cell_type": "markdown",
   "metadata": {},
   "source": [
    "### Core Imports\n",
    "\n",
    "Now we'll import all the tools we need for this session."
   ]
  },
  {
   "cell_type": "code",
   "metadata": {
    "ExecuteTime": {
     "end_time": "2025-09-02T07:21:39.882845Z",
     "start_time": "2025-09-02T07:21:39.864741Z"
    }
   },
   "source": [
    "# Core Qiskit components\n",
    "from qiskit import QuantumCircuit, transpile\n",
    "from qiskit_aer import AerSimulator\n",
    "from qiskit.visualization import plot_histogram\n",
    "from qiskit.circuit.library import QFT, EfficientSU2\n",
    "from qiskit_aer.primitives import Sampler as AerSampler # V1-style AerSampler\n",
    "\n",
    "# Qiskit Algorithms\n",
    "from qiskit_algorithms.minimum_eigensolvers import SamplingVQE\n",
    "from qiskit_algorithms.optimizers import SPSA\n",
    "\n",
    "# Qiskit Optimization components\n",
    "from qiskit_optimization import QuadraticProgram\n",
    "from qiskit_optimization.converters import QuadraticProgramToQubo\n",
    "from qiskit_optimization.algorithms import MinimumEigenOptimizer\n",
    "\n",
    "# Other libraries\n",
    "import numpy as np\n",
    "import matplotlib.pyplot as plt\n",
    "import networkx as nx\n",
    "\n",
    "import qiskit\n",
    "import qiskit_algorithms\n",
    "print(f\"Qiskit Version: {qiskit.__version__}\")\n",
    "print(f\"Qiskit Algorithms Version: {qiskit_algorithms.__version__}\")"
   ],
   "outputs": [
    {
     "name": "stdout",
     "output_type": "stream",
     "text": [
      "Qiskit Version: 2.1.2\n",
      "Qiskit Algorithms Version: 0.4.0\n"
     ]
    }
   ],
   "execution_count": 7
  },
  {
   "cell_type": "markdown",
   "metadata": {},
   "source": [
    "## Part 1: Hands-On Cryptanalysis - Breaking \"Toy\" Encryption 🔐\n",
    "\n",
    "This section demonstrates the core quantum subroutine of Shor's algorithm: period-finding."
   ]
  },
  {
   "cell_type": "code",
   "metadata": {
    "ExecuteTime": {
     "end_time": "2025-09-02T07:21:40.136600Z",
     "start_time": "2025-09-02T07:21:39.896918Z"
    }
   },
   "source": [
    "def c_amod15(a, power):\n",
    "    U = QuantumCircuit(4)\n",
    "    for _iteration in range(power):\n",
    "        if a in [2, 13]: U.swap(0, 1); U.swap(1, 2); U.swap(2, 3)\n",
    "        if a in [7, 8]: U.swap(2, 3); U.swap(1, 2); U.swap(0, 1)\n",
    "        if a in [4, 11]: U.swap(1, 3); U.swap(0, 2)\n",
    "        if a in [7, 11, 13]:\n",
    "            for q in range(4): U.x(q)\n",
    "    U = U.to_gate(); U.name = f\"{a}^{power} mod 15\"; c_U = U.control()\n",
    "    return c_U\n",
    "n_count = 4; a = 7\n",
    "qc = QuantumCircuit(n_count + 4, n_count)\n",
    "qc.h(range(n_count)); qc.x(n_count)\n",
    "for q in range(n_count): qc.append(c_amod15(a, 2**q), [q] + [i+n_count for i in range(4)])\n",
    "qc.append(QFT(n_count, inverse=True), range(n_count))\n",
    "qc.measure(range(n_count), range(n_count))\n",
    "simulator = AerSimulator(); transpiled_qc = transpile(qc, simulator)\n",
    "job = simulator.run(transpiled_qc, shots=2048); counts = job.result().get_counts()\n",
    "display(plot_histogram(counts))"
   ],
   "outputs": [
    {
     "name": "stderr",
     "output_type": "stream",
     "text": [
      "/var/folders/ys/y0scvyd9775b2m623518p1940000gn/T/ipykernel_2940/773068029.py:15: DeprecationWarning: The class ``qiskit.circuit.library.basis_change.qft.QFT`` is deprecated as of Qiskit 2.1. It will be removed in Qiskit 3.0. ('Use qiskit.circuit.library.QFTGate or qiskit.synthesis.qft.synth_qft_full instead, for access to all previous arguments.',)\n",
      "  qc.append(QFT(n_count, inverse=True), range(n_count))\n"
     ]
    },
    {
     "data": {
      "text/plain": [
       "<Figure size 640x480 with 1 Axes>"
      ],
      "image/png": "[encoded data removed]"
     },
     "metadata": {},
     "output_type": "display_data"
    }
   ],
   "execution_count": 8
  },
  {
   "cell_type": "markdown",
   "metadata": {},
   "source": [
    "---"
   ]
  },
  {
   "cell_type": "markdown",
   "metadata": {},
   "source": [
    "## Part 2: Hands-On Optimization - Advanced Resource Allocation 🧠\n",
    "\n",
    "Let's tackle a more advanced and realistic optimization problem from telecommunications using the **Variational Quantum Eigensolver (VQE)**."
   ]
  },
  {
   "cell_type": "markdown",
   "metadata": {},
   "source": [
    "### The Problem: Constrained Multi-Resource Allocation\n",
    "\n",
    "We have a scenario with multiple users and a limited set of resources (e.g., Frequency Bands). Our goal is to find the assignment that minimizes the total cost, subject to two conditions:\n",
    "\n",
    "1.  **Each user must be assigned *exactly one* resource.**\n",
    "2.  **There is an interference penalty if certain users are assigned the same resource.**\n",
    "\n",
    "This is a computationally hard problem that scales exponentially. We will demonstrate the method on an 8-user, 3-resource problem, which requires 24 qubits."
   ]
  },
  {
   "cell_type": "code",
   "metadata": {
    "ExecuteTime": {
     "end_time": "2025-09-02T07:21:40.157851Z",
     "start_time": "2025-09-02T07:21:40.150033Z"
    }
   },
   "source": [
    "# --- Problem Parameters ---\n",
    "num_users = 8\n",
    "num_resources = 3\n",
    "np.random.seed(42)\n",
    "assignment_costs = np.random.randint(1, 5, size=(num_users, num_resources))\n",
    "interference_penalty = 10\n",
    "\n",
    "# --- 1. Formulate the Problem as a Quadratic Program ---\n",
    "qp = QuadraticProgram(name=\"Scaled-Resource-Allocation\")\n",
    "for i in range(num_users):\n",
    "    for j in range(num_resources):\n",
    "        qp.binary_var(name=f'x_{i}_{j}')\n",
    "\n",
    "objective = {};\n",
    "for i in range(num_users):\n",
    "    for j in range(num_resources):\n",
    "        objective[(f'x_{i}_{j}')] = assignment_costs[i, j]\n",
    "for j in range(num_resources):\n",
    "    for i1 in range(num_users):\n",
    "        for i2 in range(i1 + 1, num_users):\n",
    "             objective[(f'x_{i1}_{j}', f'x_{i2}_{j}')] = interference_penalty\n",
    "qp.minimize(linear=objective.get('linear', {}), quadratic=objective.get('quadratic', {}))\n",
    "\n",
    "for i in range(num_users):\n",
    "    constraint_vars = {f'x_{i}_{j}': 1 for j in range(num_resources)}\n",
    "    qp.linear_constraint(linear=constraint_vars, sense='==', rhs=1, name=f'user_{i}_constraint')\n",
    "\n",
    "print(f\"Quadratic Program created with {qp.get_num_vars()} variables.\")"
   ],
   "outputs": [
    {
     "name": "stdout",
     "output_type": "stream",
     "text": [
      "Quadratic Program created with 24 variables.\n"
     ]
    }
   ],
   "execution_count": 9
  },
  {
   "cell_type": "markdown",
   "metadata": {},
   "source": [
    "### 2. Configure and Run the VQE Solver\n",
    "\n",
    "VQE is a hybrid algorithm. We use the high-level `MinimumEigenOptimizer` to wrap the entire process."
   ]
  },
  {
   "cell_type": "code",
   "metadata": {
    "ExecuteTime": {
     "end_time": "2025-09-02T07:21:40.707887Z",
     "start_time": "2025-09-02T07:21:40.170168Z"
    }
   },
   "source": [
    "# 1. Define the VQE components\n",
    "ansatz = EfficientSU2(num_qubits=qp.get_num_vars(), reps=2)\n",
    "optimizer = SPSA(maxiter=100)\n",
    "sampler = AerSampler() # Use the V1-compatible Sampler from Aer\n",
    "\n",
    "# 2. Instantiate the VQE algorithm\n",
    "vqe_solver = SamplingVQE(sampler=sampler, ansatz=ansatz, optimizer=optimizer)\n",
    "\n",
    "# 3. Create the high-level MinimumEigenOptimizer\n",
    "vqe_optimizer = MinimumEigenOptimizer(min_eigen_solver=vqe_solver)\n",
    "\n",
    "print(\"Running VQE... This will take a significant amount of time for 24 qubits.\")\n",
    "result = vqe_optimizer.solve(qp)\n",
    "print(\"VQE has finished!\")\n",
    "\n",
    "print(\"\\n--- Optimal Resource Allocation ---\")\n",
    "for i in range(num_users):\n",
    "    for j in range(num_resources):\n",
    "        if result.x[i * num_resources + j] == 1:\n",
    "            print(f\"User_{i}  ->  Resource_{j}\")\n",
    "print(f\"\\nTotal Minimized Cost: {result.fval}\")"
   ],
   "outputs": [
    {
     "name": "stdout",
     "output_type": "stream",
     "text": [
      "Running VQE... This will take a significant amount of time for 24 qubits.\n"
     ]
    },
    {
     "name": "stderr",
     "output_type": "stream",
     "text": [
      "/var/folders/ys/y0scvyd9775b2m623518p1940000gn/T/ipykernel_2940/3252633615.py:2: DeprecationWarning: The class ``qiskit.circuit.library.n_local.efficient_su2.EfficientSU2`` is deprecated as of Qiskit 2.1. It will be removed in Qiskit 3.0. Use the function qiskit.circuit.library.efficient_su2 instead.\n",
      "  ansatz = EfficientSU2(num_qubits=qp.get_num_vars(), reps=2)\n"
     ]
    },
    {
     "ename": "TypeError",
     "evalue": "Invalid circuits, expected Sequence[QuantumCircuit].",
     "output_type": "error",
     "traceback": [
      "\u001B[31m---------------------------------------------------------------------------\u001B[39m",
      "\u001B[31mTypeError\u001B[39m                                 Traceback (most recent call last)",
      "\u001B[36mCell\u001B[39m\u001B[36m \u001B[39m\u001B[32mIn[10]\u001B[39m\u001B[32m, line 13\u001B[39m\n\u001B[32m     10\u001B[39m vqe_optimizer = MinimumEigenOptimizer(min_eigen_solver=vqe_solver)\n\u001B[32m     12\u001B[39m \u001B[38;5;28mprint\u001B[39m(\u001B[33m\"\u001B[39m\u001B[33mRunning VQE... This will take a significant amount of time for 24 qubits.\u001B[39m\u001B[33m\"\u001B[39m)\n\u001B[32m---> \u001B[39m\u001B[32m13\u001B[39m result = \u001B[43mvqe_optimizer\u001B[49m\u001B[43m.\u001B[49m\u001B[43msolve\u001B[49m\u001B[43m(\u001B[49m\u001B[43mqp\u001B[49m\u001B[43m)\u001B[49m\n\u001B[32m     14\u001B[39m \u001B[38;5;28mprint\u001B[39m(\u001B[33m\"\u001B[39m\u001B[33mVQE has finished!\u001B[39m\u001B[33m\"\u001B[39m)\n\u001B[32m     16\u001B[39m \u001B[38;5;28mprint\u001B[39m(\u001B[33m\"\u001B[39m\u001B[38;5;130;01m\\n\u001B[39;00m\u001B[33m--- Optimal Resource Allocation ---\u001B[39m\u001B[33m\"\u001B[39m)\n",
      "\u001B[36mFile \u001B[39m\u001B[32m~/Downloads/Desktop/Quanta Related/QC for EC/QC for EC - Notebooks/.venv/lib/python3.12/site-packages/qiskit_optimization/algorithms/minimum_eigen_optimizer.py:204\u001B[39m, in \u001B[36mMinimumEigenOptimizer.solve\u001B[39m\u001B[34m(self, problem)\u001B[39m\n\u001B[32m    201\u001B[39m \u001B[38;5;66;03m# construct operator and offset\u001B[39;00m\n\u001B[32m    202\u001B[39m operator, offset = problem_.to_ising()\n\u001B[32m--> \u001B[39m\u001B[32m204\u001B[39m \u001B[38;5;28;01mreturn\u001B[39;00m \u001B[38;5;28;43mself\u001B[39;49m\u001B[43m.\u001B[49m\u001B[43m_solve_internal\u001B[49m\u001B[43m(\u001B[49m\u001B[43moperator\u001B[49m\u001B[43m,\u001B[49m\u001B[43m \u001B[49m\u001B[43moffset\u001B[49m\u001B[43m,\u001B[49m\u001B[43m \u001B[49m\u001B[43mproblem_\u001B[49m\u001B[43m,\u001B[49m\u001B[43m \u001B[49m\u001B[43mproblem\u001B[49m\u001B[43m)\u001B[49m\n",
      "\u001B[36mFile \u001B[39m\u001B[32m~/Downloads/Desktop/Quanta Related/QC for EC/QC for EC - Notebooks/.venv/lib/python3.12/site-packages/qiskit_optimization/algorithms/minimum_eigen_optimizer.py:217\u001B[39m, in \u001B[36mMinimumEigenOptimizer._solve_internal\u001B[39m\u001B[34m(self, operator, offset, converted_problem, original_problem)\u001B[39m\n\u001B[32m    214\u001B[39m eigen_result: MinimumEigensolverResult | \u001B[38;5;28;01mNone\u001B[39;00m = \u001B[38;5;28;01mNone\u001B[39;00m\n\u001B[32m    215\u001B[39m \u001B[38;5;28;01mif\u001B[39;00m operator.num_qubits > \u001B[32m0\u001B[39m:\n\u001B[32m    216\u001B[39m     \u001B[38;5;66;03m# approximate ground state of operator using min eigen solver\u001B[39;00m\n\u001B[32m--> \u001B[39m\u001B[32m217\u001B[39m     eigen_result = \u001B[38;5;28;43mself\u001B[39;49m\u001B[43m.\u001B[49m\u001B[43m_min_eigen_solver\u001B[49m\u001B[43m.\u001B[49m\u001B[43mcompute_minimum_eigenvalue\u001B[49m\u001B[43m(\u001B[49m\u001B[43moperator\u001B[49m\u001B[43m)\u001B[49m\n\u001B[32m    218\u001B[39m     \u001B[38;5;66;03m# analyze results\u001B[39;00m\n\u001B[32m    219\u001B[39m     raw_samples = \u001B[38;5;28;01mNone\u001B[39;00m\n",
      "\u001B[36mFile \u001B[39m\u001B[32m~/Downloads/Desktop/Quanta Related/QC for EC/QC for EC - Notebooks/.venv/lib/python3.12/site-packages/qiskit_algorithms/minimum_eigensolvers/sampling_vqe.py:238\u001B[39m, in \u001B[36mSamplingVQE.compute_minimum_eigenvalue\u001B[39m\u001B[34m(self, operator, aux_operators)\u001B[39m\n\u001B[32m    233\u001B[39m \u001B[38;5;28;01melse\u001B[39;00m:\n\u001B[32m    234\u001B[39m     \u001B[38;5;66;03m# we always want to submit as many estimations per job as possible for minimal\u001B[39;00m\n\u001B[32m    235\u001B[39m     \u001B[38;5;66;03m# overhead on the hardware\u001B[39;00m\n\u001B[32m    236\u001B[39m     was_updated = _set_default_batchsize(\u001B[38;5;28mself\u001B[39m.optimizer)\n\u001B[32m--> \u001B[39m\u001B[32m238\u001B[39m     optimizer_result = \u001B[38;5;28;43mself\u001B[39;49m\u001B[43m.\u001B[49m\u001B[43moptimizer\u001B[49m\u001B[43m.\u001B[49m\u001B[43mminimize\u001B[49m\u001B[43m(\u001B[49m\n\u001B[32m    239\u001B[39m \u001B[43m        \u001B[49m\u001B[43mfun\u001B[49m\u001B[43m=\u001B[49m\u001B[43mevaluate_energy\u001B[49m\u001B[43m,\u001B[49m\u001B[43m  \u001B[49m\u001B[38;5;66;43;03m# type: ignore[arg-type]\u001B[39;49;00m\n\u001B[32m    240\u001B[39m \u001B[43m        \u001B[49m\u001B[43mx0\u001B[49m\u001B[43m=\u001B[49m\u001B[43minitial_point\u001B[49m\u001B[43m,\u001B[49m\n\u001B[32m    241\u001B[39m \u001B[43m        \u001B[49m\u001B[43mbounds\u001B[49m\u001B[43m=\u001B[49m\u001B[43mbounds\u001B[49m\u001B[43m,\u001B[49m\n\u001B[32m    242\u001B[39m \u001B[43m    \u001B[49m\u001B[43m)\u001B[49m\n\u001B[32m    244\u001B[39m     \u001B[38;5;66;03m# reset to original value\u001B[39;00m\n\u001B[32m    245\u001B[39m     \u001B[38;5;28;01mif\u001B[39;00m was_updated:\n",
      "\u001B[36mFile \u001B[39m\u001B[32m~/Downloads/Desktop/Quanta Related/QC for EC/QC for EC - Notebooks/.venv/lib/python3.12/site-packages/qiskit_algorithms/optimizers/spsa.py:519\u001B[39m, in \u001B[36mSPSA.minimize\u001B[39m\u001B[34m(self, fun, x0, jac, bounds)\u001B[39m\n\u001B[32m    517\u001B[39m x0 = np.asarray(x0)\n\u001B[32m    518\u001B[39m \u001B[38;5;28;01mif\u001B[39;00m \u001B[38;5;28mself\u001B[39m.learning_rate \u001B[38;5;129;01mis\u001B[39;00m \u001B[38;5;28;01mNone\u001B[39;00m \u001B[38;5;129;01mand\u001B[39;00m \u001B[38;5;28mself\u001B[39m.perturbation \u001B[38;5;129;01mis\u001B[39;00m \u001B[38;5;28;01mNone\u001B[39;00m:\n\u001B[32m--> \u001B[39m\u001B[32m519\u001B[39m     get_eta, get_eps = \u001B[38;5;28;43mself\u001B[39;49m\u001B[43m.\u001B[49m\u001B[43mcalibrate\u001B[49m\u001B[43m(\u001B[49m\u001B[43mfun\u001B[49m\u001B[43m,\u001B[49m\u001B[43m \u001B[49m\u001B[43mx0\u001B[49m\u001B[43m,\u001B[49m\u001B[43m \u001B[49m\u001B[43mmax_evals_grouped\u001B[49m\u001B[43m=\u001B[49m\u001B[38;5;28;43mself\u001B[39;49m\u001B[43m.\u001B[49m\u001B[43m_max_evals_grouped\u001B[49m\u001B[43m)\u001B[49m\n\u001B[32m    520\u001B[39m \u001B[38;5;28;01melse\u001B[39;00m:\n\u001B[32m    521\u001B[39m     get_eta, get_eps = _validate_pert_and_learningrate(\n\u001B[32m    522\u001B[39m         \u001B[38;5;28mself\u001B[39m.perturbation, \u001B[38;5;28mself\u001B[39m.learning_rate\n\u001B[32m    523\u001B[39m     )\n",
      "\u001B[36mFile \u001B[39m\u001B[32m~/Downloads/Desktop/Quanta Related/QC for EC/QC for EC - Notebooks/.venv/lib/python3.12/site-packages/qiskit_algorithms/optimizers/spsa.py:337\u001B[39m, in \u001B[36mSPSA.calibrate\u001B[39m\u001B[34m(loss, initial_point, c, stability_constant, target_magnitude, alpha, gamma, modelspace, max_evals_grouped)\u001B[39m\n\u001B[32m    334\u001B[39m     pert = bernoulli_perturbation(dim)\n\u001B[32m    335\u001B[39m     points += [initial_point + c * pert, initial_point - c * pert]\n\u001B[32m--> \u001B[39m\u001B[32m337\u001B[39m losses = \u001B[43m_batch_evaluate\u001B[49m\u001B[43m(\u001B[49m\u001B[43mloss\u001B[49m\u001B[43m,\u001B[49m\u001B[43m \u001B[49m\u001B[43mpoints\u001B[49m\u001B[43m,\u001B[49m\u001B[43m \u001B[49m\u001B[43mmax_evals_grouped\u001B[49m\u001B[43m)\u001B[49m\n\u001B[32m    339\u001B[39m avg_magnitudes = \u001B[32m0.0\u001B[39m\n\u001B[32m    340\u001B[39m \u001B[38;5;28;01mfor\u001B[39;00m i \u001B[38;5;129;01min\u001B[39;00m \u001B[38;5;28mrange\u001B[39m(steps):\n",
      "\u001B[36mFile \u001B[39m\u001B[32m~/Downloads/Desktop/Quanta Related/QC for EC/QC for EC - Notebooks/.venv/lib/python3.12/site-packages/qiskit_algorithms/optimizers/spsa.py:717\u001B[39m, in \u001B[36m_batch_evaluate\u001B[39m\u001B[34m(function, points, max_evals_grouped, unpack_points)\u001B[39m\n\u001B[32m    715\u001B[39m         results += _as_list(function(*batch))\n\u001B[32m    716\u001B[39m     \u001B[38;5;28;01melse\u001B[39;00m:\n\u001B[32m--> \u001B[39m\u001B[32m717\u001B[39m         results += _as_list(\u001B[43mfunction\u001B[49m\u001B[43m(\u001B[49m\u001B[43mbatch\u001B[49m\u001B[43m)\u001B[49m)\n\u001B[32m    719\u001B[39m \u001B[38;5;28;01mreturn\u001B[39;00m results\n",
      "\u001B[36mFile \u001B[39m\u001B[32m~/Downloads/Desktop/Quanta Related/QC for EC/QC for EC - Notebooks/.venv/lib/python3.12/site-packages/qiskit_algorithms/minimum_eigensolvers/sampling_vqe.py:336\u001B[39m, in \u001B[36mSamplingVQE._get_evaluate_energy.<locals>.evaluate_energy\u001B[39m\u001B[34m(parameters)\u001B[39m\n\u001B[32m    334\u001B[39m parameters = np.reshape(parameters, (-\u001B[32m1\u001B[39m, num_parameters)).tolist()\n\u001B[32m    335\u001B[39m job = estimator.run([(ansatz, operator, parameters)])\n\u001B[32m--> \u001B[39m\u001B[32m336\u001B[39m estimator_result = \u001B[43mjob\u001B[49m\u001B[43m.\u001B[49m\u001B[43mresult\u001B[49m\u001B[43m(\u001B[49m\u001B[43m)\u001B[49m[\u001B[32m0\u001B[39m]\n\u001B[32m    337\u001B[39m values = estimator_result.data.evs\n\u001B[32m    338\u001B[39m \u001B[38;5;28;01mif\u001B[39;00m \u001B[38;5;129;01mnot\u001B[39;00m values.shape:\n",
      "\u001B[36mFile \u001B[39m\u001B[32m~/Downloads/Desktop/Quanta Related/QC for EC/QC for EC - Notebooks/.venv/lib/python3.12/site-packages/qiskit/primitives/primitive_job.py:65\u001B[39m, in \u001B[36mPrimitiveJob.result\u001B[39m\u001B[34m(self)\u001B[39m\n\u001B[32m     63\u001B[39m \u001B[38;5;28;01mif\u001B[39;00m \u001B[38;5;28mself\u001B[39m._result \u001B[38;5;129;01mis\u001B[39;00m \u001B[38;5;28;01mNone\u001B[39;00m:\n\u001B[32m     64\u001B[39m     \u001B[38;5;28mself\u001B[39m._check_submitted()\n\u001B[32m---> \u001B[39m\u001B[32m65\u001B[39m     \u001B[38;5;28mself\u001B[39m._result = \u001B[38;5;28;43mself\u001B[39;49m\u001B[43m.\u001B[49m\u001B[43m_future\u001B[49m\u001B[43m.\u001B[49m\u001B[43mresult\u001B[49m\u001B[43m(\u001B[49m\u001B[43m)\u001B[49m\n\u001B[32m     66\u001B[39m \u001B[38;5;28;01mreturn\u001B[39;00m \u001B[38;5;28mself\u001B[39m._result\n",
      "\u001B[36mFile \u001B[39m\u001B[32m/Library/Frameworks/Python.framework/Versions/3.12/lib/python3.12/concurrent/futures/_base.py:456\u001B[39m, in \u001B[36mFuture.result\u001B[39m\u001B[34m(self, timeout)\u001B[39m\n\u001B[32m    454\u001B[39m     \u001B[38;5;28;01mraise\u001B[39;00m CancelledError()\n\u001B[32m    455\u001B[39m \u001B[38;5;28;01melif\u001B[39;00m \u001B[38;5;28mself\u001B[39m._state == FINISHED:\n\u001B[32m--> \u001B[39m\u001B[32m456\u001B[39m     \u001B[38;5;28;01mreturn\u001B[39;00m \u001B[38;5;28;43mself\u001B[39;49m\u001B[43m.\u001B[49m\u001B[43m__get_result\u001B[49m\u001B[43m(\u001B[49m\u001B[43m)\u001B[49m\n\u001B[32m    457\u001B[39m \u001B[38;5;28;01melse\u001B[39;00m:\n\u001B[32m    458\u001B[39m     \u001B[38;5;28;01mraise\u001B[39;00m \u001B[38;5;167;01mTimeoutError\u001B[39;00m()\n",
      "\u001B[36mFile \u001B[39m\u001B[32m/Library/Frameworks/Python.framework/Versions/3.12/lib/python3.12/concurrent/futures/_base.py:401\u001B[39m, in \u001B[36mFuture.__get_result\u001B[39m\u001B[34m(self)\u001B[39m\n\u001B[32m    399\u001B[39m \u001B[38;5;28;01mif\u001B[39;00m \u001B[38;5;28mself\u001B[39m._exception:\n\u001B[32m    400\u001B[39m     \u001B[38;5;28;01mtry\u001B[39;00m:\n\u001B[32m--> \u001B[39m\u001B[32m401\u001B[39m         \u001B[38;5;28;01mraise\u001B[39;00m \u001B[38;5;28mself\u001B[39m._exception\n\u001B[32m    402\u001B[39m     \u001B[38;5;28;01mfinally\u001B[39;00m:\n\u001B[32m    403\u001B[39m         \u001B[38;5;66;03m# Break a reference cycle with the exception in self._exception\u001B[39;00m\n\u001B[32m    404\u001B[39m         \u001B[38;5;28mself\u001B[39m = \u001B[38;5;28;01mNone\u001B[39;00m\n",
      "\u001B[36mFile \u001B[39m\u001B[32m/Library/Frameworks/Python.framework/Versions/3.12/lib/python3.12/concurrent/futures/thread.py:58\u001B[39m, in \u001B[36m_WorkItem.run\u001B[39m\u001B[34m(self)\u001B[39m\n\u001B[32m     55\u001B[39m     \u001B[38;5;28;01mreturn\u001B[39;00m\n\u001B[32m     57\u001B[39m \u001B[38;5;28;01mtry\u001B[39;00m:\n\u001B[32m---> \u001B[39m\u001B[32m58\u001B[39m     result = \u001B[38;5;28;43mself\u001B[39;49m\u001B[43m.\u001B[49m\u001B[43mfn\u001B[49m\u001B[43m(\u001B[49m\u001B[43m*\u001B[49m\u001B[38;5;28;43mself\u001B[39;49m\u001B[43m.\u001B[49m\u001B[43margs\u001B[49m\u001B[43m,\u001B[49m\u001B[43m \u001B[49m\u001B[43m*\u001B[49m\u001B[43m*\u001B[49m\u001B[38;5;28;43mself\u001B[39;49m\u001B[43m.\u001B[49m\u001B[43mkwargs\u001B[49m\u001B[43m)\u001B[49m\n\u001B[32m     59\u001B[39m \u001B[38;5;28;01mexcept\u001B[39;00m \u001B[38;5;167;01mBaseException\u001B[39;00m \u001B[38;5;28;01mas\u001B[39;00m exc:\n\u001B[32m     60\u001B[39m     \u001B[38;5;28mself\u001B[39m.future.set_exception(exc)\n",
      "\u001B[36mFile \u001B[39m\u001B[32m~/Downloads/Desktop/Quanta Related/QC for EC/QC for EC - Notebooks/.venv/lib/python3.12/site-packages/qiskit_algorithms/minimum_eigensolvers/diagonal_estimator.py:90\u001B[39m, in \u001B[36m_DiagonalEstimator._run\u001B[39m\u001B[34m(self, pubs)\u001B[39m\n\u001B[32m     89\u001B[39m \u001B[38;5;28;01mdef\u001B[39;00m\u001B[38;5;250m \u001B[39m\u001B[34m_run\u001B[39m(\u001B[38;5;28mself\u001B[39m, pubs: \u001B[38;5;28mlist\u001B[39m[EstimatorPub]) -> PrimitiveResult[_DiagonalEstimatorResult]:\n\u001B[32m---> \u001B[39m\u001B[32m90\u001B[39m     \u001B[38;5;28;01mreturn\u001B[39;00m PrimitiveResult([\u001B[38;5;28;43mself\u001B[39;49m\u001B[43m.\u001B[49m\u001B[43m_run_pub\u001B[49m\u001B[43m(\u001B[49m\u001B[43mpub\u001B[49m\u001B[43m)\u001B[49m \u001B[38;5;28;01mfor\u001B[39;00m pub \u001B[38;5;129;01min\u001B[39;00m pubs])\n",
      "\u001B[36mFile \u001B[39m\u001B[32m~/Downloads/Desktop/Quanta Related/QC for EC/QC for EC - Notebooks/.venv/lib/python3.12/site-packages/qiskit_algorithms/minimum_eigensolvers/diagonal_estimator.py:122\u001B[39m, in \u001B[36m_DiagonalEstimator._run_pub\u001B[39m\u001B[34m(self, pub)\u001B[39m\n\u001B[32m    112\u001B[39m     \u001B[38;5;28;01melse\u001B[39;00m:\n\u001B[32m    113\u001B[39m         sampler_pubs.append(\n\u001B[32m    114\u001B[39m             (\n\u001B[32m    115\u001B[39m                 bound_circuit.measure_all(inplace=\u001B[38;5;28;01mFalse\u001B[39;00m),\n\u001B[32m   (...)\u001B[39m\u001B[32m    119\u001B[39m             )\n\u001B[32m    120\u001B[39m         )\n\u001B[32m--> \u001B[39m\u001B[32m122\u001B[39m job = \u001B[38;5;28;43mself\u001B[39;49m\u001B[43m.\u001B[49m\u001B[43msampler\u001B[49m\u001B[43m.\u001B[49m\u001B[43mrun\u001B[49m\u001B[43m(\u001B[49m\u001B[43msampler_pubs\u001B[49m\u001B[43m)\u001B[49m\n\u001B[32m    123\u001B[39m sampler_pubs_results = job.result()\n\u001B[32m    125\u001B[39m \u001B[38;5;28;01mfor\u001B[39;00m sampler_pub_result, index \u001B[38;5;129;01min\u001B[39;00m \u001B[38;5;28mzip\u001B[39m(sampler_pubs_results, np.ndindex(*bc_circuits.shape)):\n",
      "\u001B[36mFile \u001B[39m\u001B[32m~/Downloads/Desktop/Quanta Related/QC for EC/QC for EC - Notebooks/.venv/lib/python3.12/site-packages/qiskit/primitives/base/base_sampler.py:177\u001B[39m, in \u001B[36mBaseSamplerV1.run\u001B[39m\u001B[34m(self, circuits, parameter_values, **run_options)\u001B[39m\n\u001B[32m    162\u001B[39m \u001B[38;5;250m\u001B[39m\u001B[33;03m\"\"\"Run the job of the sampling of bitstrings.\u001B[39;00m\n\u001B[32m    163\u001B[39m \n\u001B[32m    164\u001B[39m \u001B[33;03mArgs:\u001B[39;00m\n\u001B[32m   (...)\u001B[39m\u001B[32m    174\u001B[39m \u001B[33;03m    ValueError: Invalid arguments are given.\u001B[39;00m\n\u001B[32m    175\u001B[39m \u001B[33;03m\"\"\"\u001B[39;00m\n\u001B[32m    176\u001B[39m \u001B[38;5;66;03m# Validation\u001B[39;00m\n\u001B[32m--> \u001B[39m\u001B[32m177\u001B[39m circuits, parameter_values = \u001B[43m_validate_sampler_args\u001B[49m\u001B[43m(\u001B[49m\u001B[43mcircuits\u001B[49m\u001B[43m,\u001B[49m\u001B[43m \u001B[49m\u001B[43mparameter_values\u001B[49m\u001B[43m)\u001B[49m\n\u001B[32m    179\u001B[39m \u001B[38;5;66;03m# Options\u001B[39;00m\n\u001B[32m    180\u001B[39m run_opts = copy(\u001B[38;5;28mself\u001B[39m.options)\n",
      "\u001B[36mFile \u001B[39m\u001B[32m~/Downloads/Desktop/Quanta Related/QC for EC/QC for EC - Notebooks/.venv/lib/python3.12/site-packages/qiskit/primitives/base/validation_v1.py:83\u001B[39m, in \u001B[36m_validate_sampler_args\u001B[39m\u001B[34m(circuits, parameter_values)\u001B[39m\n\u001B[32m     69\u001B[39m \u001B[38;5;250m\u001B[39m\u001B[33;03m\"\"\"Validate run arguments for BaseSamplerV1.\u001B[39;00m\n\u001B[32m     70\u001B[39m \n\u001B[32m     71\u001B[39m \u001B[33;03mArgs:\u001B[39;00m\n\u001B[32m   (...)\u001B[39m\u001B[32m     80\u001B[39m \u001B[33;03m    ValueError: if input arguments are invalid values.\u001B[39;00m\n\u001B[32m     81\u001B[39m \u001B[33;03m\"\"\"\u001B[39;00m\n\u001B[32m     82\u001B[39m \u001B[38;5;66;03m# Singular validation\u001B[39;00m\n\u001B[32m---> \u001B[39m\u001B[32m83\u001B[39m circuits = \u001B[43m_validate_circuits\u001B[49m\u001B[43m(\u001B[49m\u001B[43mcircuits\u001B[49m\u001B[43m,\u001B[49m\u001B[43m \u001B[49m\u001B[43mrequires_measure\u001B[49m\u001B[43m=\u001B[49m\u001B[38;5;28;43;01mTrue\u001B[39;49;00m\u001B[43m)\u001B[49m\n\u001B[32m     84\u001B[39m parameter_values = _validate_parameter_values(\n\u001B[32m     85\u001B[39m     parameter_values,\n\u001B[32m     86\u001B[39m     default=[()] * \u001B[38;5;28mlen\u001B[39m(circuits),\n\u001B[32m     87\u001B[39m )\n\u001B[32m     89\u001B[39m \u001B[38;5;66;03m# Cross-validation\u001B[39;00m\n",
      "\u001B[36mFile \u001B[39m\u001B[32m~/Downloads/Desktop/Quanta Related/QC for EC/QC for EC - Notebooks/.venv/lib/python3.12/site-packages/qiskit/primitives/base/validation_v1.py:127\u001B[39m, in \u001B[36m_validate_circuits\u001B[39m\u001B[34m(circuits, requires_measure)\u001B[39m\n\u001B[32m    123\u001B[39m     circuits = (circuits,)\n\u001B[32m    124\u001B[39m \u001B[38;5;28;01melif\u001B[39;00m \u001B[38;5;129;01mnot\u001B[39;00m \u001B[38;5;28misinstance\u001B[39m(circuits, Sequence) \u001B[38;5;129;01mor\u001B[39;00m \u001B[38;5;129;01mnot\u001B[39;00m \u001B[38;5;28mall\u001B[39m(\n\u001B[32m    125\u001B[39m     \u001B[38;5;28misinstance\u001B[39m(cir, QuantumCircuit) \u001B[38;5;28;01mfor\u001B[39;00m cir \u001B[38;5;129;01min\u001B[39;00m circuits\n\u001B[32m    126\u001B[39m ):\n\u001B[32m--> \u001B[39m\u001B[32m127\u001B[39m     \u001B[38;5;28;01mraise\u001B[39;00m \u001B[38;5;167;01mTypeError\u001B[39;00m(\u001B[33m\"\u001B[39m\u001B[33mInvalid circuits, expected Sequence[QuantumCircuit].\u001B[39m\u001B[33m\"\u001B[39m)\n\u001B[32m    128\u001B[39m \u001B[38;5;28;01melif\u001B[39;00m \u001B[38;5;129;01mnot\u001B[39;00m \u001B[38;5;28misinstance\u001B[39m(circuits, \u001B[38;5;28mtuple\u001B[39m):\n\u001B[32m    129\u001B[39m     circuits = \u001B[38;5;28mtuple\u001B[39m(circuits)\n",
      "\u001B[31mTypeError\u001B[39m: Invalid circuits, expected Sequence[QuantumCircuit]."
     ]
    }
   ],
   "execution_count": 10
  },
  {
   "cell_type": "markdown",
   "metadata": {},
   "source": [
    "---"
   ]
  },
  {
   "cell_type": "markdown",
   "metadata": {},
   "source": [
    "## Part 3: Hands-On Secure Communication - Simulating QKD 🌐\n",
    "\n",
    "Let's simulate the famous **BB84 Quantum Key Distribution** protocol to see how we can use physics to securely share a secret key."
   ]
  },
  {
   "cell_type": "code",
   "execution_count": null,
   "metadata": {},
   "outputs": [],
   "source": [
    "# Let's simulate sharing a short 16-bit key\n",
    "key_length = 16\n",
    "np.random.seed(0)\n",
    "\n",
    "# 1. Alice prepares her bits and bases\n",
    "alice_key = np.random.randint(2, size=key_length)\n",
    "alice_bases = np.random.randint(2, size=key_length) # 0 for Z-basis, 1 for X-basis\n",
    "\n",
    "def encode_message(key_bits, bases):\n",
    "    message = []\n",
    "    for i in range(len(key_bits)):\n",
    "        qc = QuantumCircuit(1,1)\n",
    "        if bases[i] == 0: # Prepare in Z-basis\n",
    "            if key_bits[i] == 1:\n",
    "                qc.x(0)\n",
    "        else: # Prepare in X-basis\n",
    "            if key_bits[i] == 0:\n",
    "                qc.h(0)\n",
    "            else:\n",
    "                qc.x(0)\n",
    "                qc.h(0)\n",
    "        message.append(qc)\n",
    "    return message\n",
    "\n",
    "alice_message = encode_message(alice_key, alice_bases)\n",
    "\n",
    "# 2. Bob chooses his bases and measures\n",
    "bob_bases = np.random.randint(2, size=key_length)\n",
    "\n",
    "def measure_message(message, bases):\n",
    "    backend = AerSimulator()\n",
    "    measurements = []\n",
    "    for i in range(len(bases)):\n",
    "        if bases[i] == 0: # Measure in Z-basis\n",
    "            message[i].measure(0,0)\n",
    "        else: # Measure in X-basis\n",
    "            message[i].h(0)\n",
    "            message[i].measure(0,0)\n",
    "        \n",
    "        transpiled_qc = transpile(message[i], backend)\n",
    "        result = backend.run(transpiled_qc, shots=1, memory=True).result()\n",
    "        measured_bit = int(result.get_memory()[0])\n",
    "        measurements.append(measured_bit)\n",
    "    return measurements\n",
    "\n",
    "bob_results = measure_message(alice_message, bob_bases)\n",
    "\n",
    "# 3. Alice and Bob sift their keys\n",
    "final_key = []\n",
    "for i in range(key_length):\n",
    "    if alice_bases[i] == bob_bases[i]:\n",
    "        final_key.append(bob_results[i])\n",
    "\n",
    "print(f\"Alice's original key:  {alice_key}\")\n",
    "print(f\"Alice's bases:         {alice_bases}\")\n",
    "print(f\"Bob's bases:           {bob_bases}\")\n",
    "print(f\"Bob's results:         {bob_results}\")\n",
    "print(f\"Agreed upon secret key: {final_key}\")\n",
    "print(f\"Key Length: {len(final_key)} bits\")"
   ]
  }
 ],
 "metadata": {
  "kernelspec": {
   "display_name": "Python 3",
   "language": "python",
   "name": "python3"
  },
  "language_info": {
   "codemirror_mode": {
    "name": "ipython",
    "version": 3
   },
   "file_extension": ".py",
   "mimetype": "text/x-python",
   "name": "python",
   "nbconvert_exporter": "python",
   "pygments_lexer": "ipython3",
   "version": "3.12"
  }
 },
 "nbformat": 4,
 "nbformat_minor": 4
}
