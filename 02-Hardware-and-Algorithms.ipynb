{
 "cells": [
  {
   "cell_type": "markdown",
   "metadata": {},
   "source": [
    "<h1>Day 2: Hardware & Algorithms</h1>\n",
    "<p><b>Workshop for the Computer Engineering Department, University of Tripoli</b></p>\n",
    "<p><i>Prepared by Abdulmalek Baitulmal with Gemini</i></p>"
   ]
  },
  {
   "cell_type": "markdown",
   "metadata": {},
   "source": [
    "## 🛠️ Setup: Installing Libraries\n",
    "\n",
    "This cell will install the necessary libraries for today's session, including **`qiskit-dynamics`** for pulse-level simulation.\n",
    "\n",
    "**Please run this cell and wait for the installation to complete before proceeding.**"
   ]
  },
  {
   "cell_type": "code",
   "execution_count": null,
   "metadata": {},
   "outputs": [],
   "source": [
    "# Install the necessary libraries\n",
    "!pip install -q qiskit qiskit-aer pylatexenc qiskit-dynamics\n",
    "\n",
    "print(\"✅ Installation command executed.\")\n",
    "print(\"➡️ If you encounter any errors in the following cells, try restarting the kernel first (from the 'Kernel' menu).\")"
   ]
  },
  {
   "cell_type": "markdown",
   "metadata": {},
   "source": [
    "### Core Imports\n",
    "\n",
    "Now we'll import all the tools we need for this session."
   ]
  },
  {
   "cell_type": "code",
   "metadata": {
    "ExecuteTime": {
     "end_time": "2025-08-27T04:52:46.566286Z",
     "start_time": "2025-08-27T04:52:44.804163Z"
    }
   },
   "source": [
    "# Core Qiskit components\n",
    "from qiskit import QuantumCircuit, pulse, transpile\n",
    "from qiskit.pulse import Play, DriveChannel, Gaussian\n",
    "from qiskit_aer import AerSimulator\n",
    "from qiskit.quantum_info import Statevector, Operator\n",
    "\n",
    "# Qiskit Dynamics for pulse simulation\n",
    "from qiskit_dynamics import Solver\n",
    "from qiskit_dynamics.pulse import InstructionToSignals\n",
    "\n",
    "# Visualization tools\n",
    "from qiskit.visualization import plot_histogram\n",
    "import matplotlib.pyplot as plt\n",
    "\n",
    "# Standard library for math\n",
    "import numpy as np\n",
    "\n",
    "# Let's check the version to confirm\n",
    "import qiskit\n",
    "print(f\"Qiskit Version: {qiskit.__version__}\")"
   ],
   "outputs": [
    {
     "name": "stdout",
     "output_type": "stream",
     "text": [
      "Qiskit Version: 1.4.4\n"
     ]
    }
   ],
   "execution_count": 1
  },
  {
   "cell_type": "markdown",
   "metadata": {},
   "source": [
    "## Part 1: Hardware Deep Dive - The IBM Stack"
   ]
  },
  {
   "cell_type": "markdown",
   "metadata": {},
   "source": [
    "### Hands-On: A Deeper Dive with Qiskit Dynamics\n",
    "\n",
    "This example, adapted from the `qiskit-dynamics` tutorials, shows how to create a schedule for an SX-SY gate sequence using a DRAG pulse (designed to reduce errors) and simulate its effect on a qubit."
   ]
  },
  {
   "cell_type": "markdown",
   "metadata": {},
   "source": [
    "#### Step 1: Create the Pulse Schedule"
   ]
  },
  {
   "cell_type": "code",
   "execution_count": null,
   "metadata": {},
   "outputs": [],
   "source": [
    "# Define physical parameters\n",
    "r = 0.1  # Strength of the Rabi-rate in GHz.\n",
    "w = 5.0  # Frequency of the qubit transition in GHz.\n",
    "dt = 1 / 4.5  # Sample rate of the backend in ns.\n",
    "\n",
    "# Define gaussian DRAG pulse parameters to approximately implement an sx gate.\n",
    "amp = 1. / 1.75\n",
    "sig = 0.6985 / r / amp\n",
    "T = 4 * sig\n",
    "duration = int(T / dt)\n",
    "beta = 2.0\n",
    "\n",
    "with pulse.build(name=\"sx-sy schedule\") as sxsy_schedule:\n",
    "    pulse.play(pulse.Drag(duration, amp, sig / dt, beta), pulse.DriveChannel(0))\n",
    "    pulse.shift_phase(np.pi/2, pulse.DriveChannel(0))\n",
    "    pulse.play(pulse.Drag(duration, amp, sig / dt, beta), pulse.DriveChannel(0))\n",
    "\n",
    "display(sxsy_schedule.draw())"
   ]
  },
  {
   "cell_type": "markdown",
   "metadata": {},
   "source": [
    "#### Step 2: Convert the Pulse Schedule to a `Signal`"
   ]
  },
  {
   "cell_type": "code",
   "execution_count": null,
   "metadata": {},
   "outputs": [],
   "source": [
    "plt.rcParams[\"font.size\"] = 16\n",
    "converter = InstructionToSignals(dt, carriers={\"d0\": w})\n",
    "signals = converter.get_signals(sxsy_schedule)\n",
    "\n",
    "fig, axs = plt.subplots(1, 2, figsize=(14, 4.5))\n",
    "for ax, title in zip(axs, [\"envelope\", \"signal\"]):\n",
    "    signals[0].draw(0, 2*T, 2000, title, axis=ax)\n",
    "    ax.set_xlabel(\"Time (ns)\")\n",
    "    ax.set_ylabel(\"Amplitude\")\n",
    "    ax.set_title(title)\n",
    "    ax.vlines(T, ax.get_ylim()[0], ax.get_ylim()[1], \"k\", linestyle=\"dashed\")\n",
    "plt.show()"
   ]
  },
  {
   "cell_type": "markdown",
   "metadata": {},
   "source": [
    "#### Step 3: Create the System Model"
   ]
  },
  {
   "cell_type": "code",
   "execution_count": null,
   "metadata": {},
   "outputs": [],
   "source": [
    "# Construct operators\n",
    "X = Operator.from_label('X')\n",
    "Z = Operator.from_label('Z')\n",
    "\n",
    "drift = 2 * np.pi * w * Z/2\n",
    "operators = [2 * np.pi * r * X/2]\n",
    "\n",
    "# Construct the solver\n",
    "hamiltonian_solver = Solver(\n",
    "    static_hamiltonian=drift,\n",
    "    hamiltonian_operators=operators,\n",
    "    rotating_frame=drift,\n",
    "    rwa_cutoff_freq=2 * 5.0,\n",
    "    hamiltonian_channels=['d0'],\n",
    "    channel_carrier_freqs={'d0': w},\n",
    "    dt=dt\n",
    ")"
   ]
  },
  {
   "cell_type": "markdown",
   "metadata": {},
   "source": [
    "#### Step 4: Simulate the Pulse Schedule and Plot Results"
   ]
  },
  {
   "cell_type": "code",
   "execution_count": null,
   "metadata": {},
   "outputs": [],
   "source": [
    "# Start the qubit in its ground state.\n",
    "y0 = Statevector([1., 0.])\n",
    "\n",
    "sol = hamiltonian_solver.solve(t_span=[0., 2*T], y0=y0, signals=sxsy_schedule, atol=1e-8, rtol=1e-8)\n",
    "\n",
    "def plot_populations(sol):\n",
    "    pop0 = [psi.probabilities()[0] for psi in sol.y]\n",
    "    pop1 = [psi.probabilities()[1] for psi in sol.y]\n",
    "\n",
    "    fig = plt.figure(figsize=(8, 5))\n",
    "    plt.plot(sol.t, pop0, lw=3, label=\"Population in |0>\")\n",
    "    plt.plot(sol.t, pop1, lw=3, label=\"Population in |1>\")\n",
    "    plt.xlabel(\"Time (ns)\")\n",
    "    plt.ylabel(\"Population\")\n",
    "    plt.legend(frameon=False)\n",
    "    plt.ylim([0, 1.05])\n",
    "    plt.xlim([0, 2*T])\n",
    "    plt.vlines(T, 0, 1.05, \"k\", linestyle=\"dashed\")\n",
    "    plt.show()\n",
    "\n",
    "plot_populations(sol)"
   ]
  },
  {
   "cell_type": "markdown",
   "metadata": {},
   "source": [
    "---"
   ]
  },
  {
   "cell_type": "markdown",
   "metadata": {},
   "source": [
    "## Part 2: From Hardware to Algorithms (FFT vs. QFT)"
   ]
  },
  {
   "cell_type": "markdown",
   "metadata": {},
   "source": [
    "### The Quantum Fourier Transform (QFT)\n",
    "\n",
    "The QFT's true power is revealing **periodicity** hidden in a quantum state. Let's prepare an input state with a hidden pattern: a superposition of $\\ket{000}$ and $\\ket{100}$. This state has a 'period' of 4. The QFT should find it."
   ]
  },
  {
   "metadata": {
    "ExecuteTime": {
     "end_time": "2025-08-27T05:05:45.824286Z",
     "start_time": "2025-08-27T05:05:45.611653Z"
    }
   },
   "cell_type": "code",
   "source": [
    "from qiskit.circuit.library import QFT\n",
    "\n",
    "# Create the circuit\n",
    "n_qubits = 5\n",
    "qc = QuantumCircuit(n_qubits, n_qubits)\n",
    "\n",
    "# Prepare the periodic state: 1/sqrt(2) * (|000> + |100>)\n",
    "# qc.h(2)\n",
    "# qc.h(4)\n",
    "\n",
    "qc.barrier()\n",
    "for i in range(n_qubits):\n",
    "    qc.h(i)\n",
    "\n",
    "\n",
    "qc.y(2)\n",
    "qc.x(0)\n",
    "qc.cp(1.5, 3, 1)\n",
    "qc.barrier()\n",
    "\n",
    "# Apply the QFT using the circuit library\n",
    "qft_gate = QFT(n_qubits, do_swaps=True, inverse=False, name='QFT')\n",
    "qc.append(qft_gate, range(n_qubits))\n",
    "qc.measure(range(n_qubits), range(n_qubits))\n",
    "\n",
    "print(\"Circuit for QFT on a periodic state:\")\n",
    "display(qc.draw('mpl'))\n",
    "\n",
    "# Initialize the simulator\n",
    "simulator = AerSimulator()\n",
    "\n",
    "# IMPORTANT: Transpile the circuit before running!\n",
    "# This breaks down the high-level 'QFT' gate into basic gates the simulator understands.\n",
    "transpiled_qc = transpile(qc, simulator)\n",
    "\n",
    "# Run the transpiled circuit\n",
    "job = simulator.run(transpiled_qc, shots=2048)\n",
    "counts = job.result().get_counts()\n",
    "\n",
    "print(\"\\nApplying QFT to the periodic state |000> + |100>:\")\n",
    "display(plot_histogram(counts, title='QFT on a Periodic State'))\n",
    "print(\"\\nObservation: The results now show clear peaks at '000' (0) and '100' (4). This reveals the hidden period! This is the core mechanism behind Shor's algorithm.\")"
   ],
   "outputs": [
    {
     "name": "stdout",
     "output_type": "stream",
     "text": [
      "Circuit for QFT on a periodic state:\n"
     ]
    },
    {
     "data": {
      "text/plain": [
       "<Figure size 1123.61x535.111 with 1 Axes>"
      ],
      "image/png": "[encoded data removed]"
     },
     "metadata": {},
     "output_type": "display_data"
    },
    {
     "name": "stdout",
     "output_type": "stream",
     "text": [
      "\n",
      "Applying QFT to the periodic state |000> + |100>:\n"
     ]
    },
    {
     "data": {
      "text/plain": [
       "<Figure size 640x480 with 1 Axes>"
      ],
      "image/png": "[encoded data removed]"
     },
     "metadata": {},
     "output_type": "display_data"
    },
    {
     "name": "stdout",
     "output_type": "stream",
     "text": [
      "\n",
      "Observation: The results now show clear peaks at '000' (0) and '100' (4). This reveals the hidden period! This is the core mechanism behind Shor's algorithm.\n"
     ]
    }
   ],
   "execution_count": 14
  },
  {
   "cell_type": "markdown",
   "metadata": {},
   "source": [
    "## End of Day 2\n",
    "\n",
    "Today we went on a journey from the physical hardware that runs quantum computations all the way up to a foundational quantum algorithm. You've seen how abstract gates are just microwave pulses and how combining them in clever ways can lead to exponential speedups. Tomorrow, we'll explore the impact of these capabilities on AI and security."
   ]
  }
 ],
 "metadata": {
  "kernelspec": {
   "display_name": "Python 3",
   "language": "python",
   "name": "python3"
  },
  "language_info": {
   "codemirror_mode": {
    "name": "ipython",
    "version": 3
   },
   "file_extension": ".py",
   "mimetype": "text/x-python",
   "name": "python",
   "nbconvert_exporter": "python",
   "pygments_lexer": "ipython3",
   "version": "3.12"
  }
 },
 "nbformat": 4,
 "nbformat_minor": 4
}
