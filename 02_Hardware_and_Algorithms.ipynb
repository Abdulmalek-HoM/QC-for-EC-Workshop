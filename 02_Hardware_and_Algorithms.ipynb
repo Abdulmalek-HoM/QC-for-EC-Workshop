{
 "cells": [
  {
   "cell_type": "markdown",
   "metadata": {},
   "source": [
    "<h1>Day 2: Hardware & Algorithms</h1>\n",
    "<p><b>Workshop for the Computer Engineering Department, University of Tripoli</b></p>\n",
    "<p><i>Prepared by Abdulmalek Baitulmal with Gemini</i></p>"
   ]
  },
  {
   "cell_type": "markdown",
   "metadata": {},
   "source": [
    "## 🛠️ Setup: Installing Libraries\n",
    "\n",
    "This cell will install the necessary libraries for today's session, including **`qiskit-dynamics`** for pulse-level simulation and **`qiskit-ibm-runtime`** for accessing realistic backend models.\n",
    "\n",
    "**Please run this cell and wait for the installation to complete before proceeding.**"
   ]
  },
  {
   "cell_type": "code",
   "execution_count": null,
   "metadata": {},
   "outputs": [],
   "source": [
    "# Install the necessary libraries\n",
    "!pip install -q qiskit qiskit-aer pylatexenc qiskit-dynamics qiskit-ibm-runtime\n",
    "\n",
    "print(\"✅ Installation command executed.\")\n",
    "print(\"➡️ If you encounter any errors in the following cells, try restarting the kernel first (from the 'Kernel' menu).\")"
   ]
  },
  {
   "cell_type": "markdown",
   "metadata": {},
   "source": [
    "### Core Imports\n",
    "\n",
    "Now we'll import all the tools we need for this session."
   ]
  },
  {
   "cell_type": "code",
   "execution_count": null,
   "metadata": {},
   "outputs": [],
   "source": [
    "# Core Qiskit components\n",
    "from qiskit import QuantumCircuit, pulse, transpile\n",
    "from qiskit.pulse import Play, DriveChannel, Gaussian\n",
    "from qiskit_aer import AerSimulator\n",
    "from qiskit.quantum_info import Statevector, Operator\n",
    "from qiskit_ibm_runtime.fake_provider import FakeManilaV2\n",
    "\n",
    "# Qiskit Dynamics for pulse simulation\n",
    "from qiskit_dynamics import Solver\n",
    "from qiskit_dynamics.pulse import InstructionToSignals\n",
    "\n",
    "# Visualization tools\n",
    "from qiskit.visualization import plot_histogram, plot_circuit_layout\n",
    "import matplotlib.pyplot as plt\n",
    "\n",
    "# Standard library for math\n",
    "import numpy as np\n",
    "\n",
    "# Let's check the version to confirm\n",
    "import qiskit\n",
    "print(f\"Qiskit Version: {qiskit.__version__}\")"
   ]
  },
  {
   "cell_type": "markdown",
   "metadata": {},
   "source": [
    "## Part 1: Hardware Deep Dive\n",
    "\n",
    "This section explores the physical reality behind our abstract quantum circuits, from the hardware stack down to the microwave pulses that implement gates."
   ]
  },
  {
   "cell_type": "markdown",
   "metadata": {},
   "source": [
    "### Hands-On: A Deeper Dive with Qiskit Dynamics\n",
    "\n",
    "This advanced example shows how to create a schedule for an SX-SY gate sequence using a DRAG pulse (designed to reduce errors) and simulate its effect on a qubit's state over time."
   ]
  },
  {
   "cell_type": "markdown",
   "metadata": {},
   "source": [
    "#### Step 1: Create the Pulse Schedule"
   ]
  },
  {
   "cell_type": "code",
   "execution_count": null,
   "metadata": {},
   "outputs": [],
   "source": [
    "# Define physical parameters\n",
    "r = 0.1  # Strength of the Rabi-rate in GHz.\n",
    "w = 5.0  # Frequency of the qubit transition in GHz.\n",
    "dt = 1 / 4.5  # Sample rate of the backend in ns.\n",
    "\n",
    "# Define gaussian DRAG pulse parameters\n",
    "amp = 1. / 1.75\n",
    "sig = 0.6985 / r / amp\n",
    "T = 4 * sig\n",
    "duration = int(T / dt)\n",
    "beta = 2.0\n",
    "\n",
    "with pulse.build(name=\"sx-sy schedule\") as sxsy_schedule:\n",
    "    pulse.play(pulse.Drag(duration, amp, sig / dt, beta), pulse.DriveChannel(0))\n",
    "    pulse.shift_phase(np.pi/2, pulse.DriveChannel(0))\n",
    "    pulse.play(pulse.Drag(duration, amp, sig / dt, beta), pulse.DriveChannel(0))\n",
    "\n",
    "display(sxsy_schedule.draw())"
   ]
  },
  {
   "cell_type": "markdown",
   "metadata": {},
   "source": [
    "#### Step 2: Convert the Pulse Schedule to a `Signal`"
   ]
  },
  {
   "cell_type": "code",
   "execution_count": null,
   "metadata": {},
   "outputs": [],
   "source": [
    "plt.rcParams[\"font.size\"] = 16\n",
    "converter = InstructionToSignals(dt, carriers={\"d0\": w})\n",
    "signals = converter.get_signals(sxsy_schedule)\n",
    "\n",
    "fig, axs = plt.subplots(1, 2, figsize=(14, 4.5))\n",
    "for ax, title in zip(axs, [\"envelope\", \"signal\"]):\n",
    "    signals[0].draw(0, 2*T, 2000, title, axis=ax)\n",
    "    ax.set_xlabel(\"Time (ns)\")\n",
    "    ax.set_ylabel(\"Amplitude\")\n",
    "    ax.set_title(title)\n",
    "    ax.vlines(T, ax.get_ylim()[0], ax.get_ylim()[1], \"k\", linestyle=\"dashed\")\n",
    "plt.show()"
   ]
  },
  {
   "cell_type": "markdown",
   "metadata": {},
   "source": [
    "#### Step 3: Create the System Model"
   ]
  },
  {
   "cell_type": "code",
   "execution_count": null,
   "metadata": {},
   "outputs": [],
   "source": [
    "# Construct operators\n",
    "X = Operator.from_label('X')\n",
    "Z = Operator.from_label('Z')\n",
    "\n",
    "drift = 2 * np.pi * w * Z/2\n",
    "operators = [2 * np.pi * r * X/2]\n",
    "\n",
    "# Construct the solver\n",
    "hamiltonian_solver = Solver(\n",
    "    static_hamiltonian=drift,\n",
    "    hamiltonian_operators=operators,\n",
    "    rotating_frame=drift,\n",
    "    rwa_cutoff_freq=2 * 5.0,\n",
    "    hamiltonian_channels=['d0'],\n",
    "    channel_carrier_freqs={'d0': w},\n",
    "    dt=dt\n",
    ")"
   ]
  },
  {
   "cell_type": "markdown",
   "metadata": {},
   "source": [
    "#### Step 4: Simulate the Pulse Schedule and Plot Results"
   ]
  },
  {
   "cell_type": "code",
   "execution_count": null,
   "metadata": {},
   "outputs": [],
   "source": [
    "# Start the qubit in its ground state.\n",
    "y0 = Statevector([1., 0.])\n",
    "\n",
    "sol = hamiltonian_solver.solve(t_span=[0., 2*T], y0=y0, signals=sxsy_schedule, atol=1e-8, rtol=1e-8)\n",
    "\n",
    "def plot_populations(sol):\n",
    "    pop0 = [psi.probabilities()[0] for psi in sol.y]\n",
    "    pop1 = [psi.probabilities()[1] for psi in sol.y]\n",
    "\n",
    "    fig = plt.figure(figsize=(8, 5))\n",
    "    plt.plot(sol.t, pop0, lw=3, label=\"Population in |0>\")\n",
    "    plt.plot(sol.t, pop1, lw=3, label=\"Population in |1>\")\n",
    "    plt.xlabel(\"Time (ns)\")\n",
    "    plt.ylabel(\"Population\")\n",
    "    plt.legend(frameon=False)\n",
    "    plt.ylim([0, 1.05])\n",
    "    plt.xlim([0, 2*T])\n",
    "    plt.vlines(T, 0, 1.05, \"k\", linestyle=\"dashed\")\n",
    "    plt.show()\n",
    "\n",
    "plot_populations(sol)"
   ]
  },
  {
   "cell_type": "markdown",
   "metadata": {},
   "source": [
    "---"
   ]
  },
  {
   "cell_type": "markdown",
   "metadata": {},
   "source": [
    "## Part 2: The Quantum Compiler - An Introduction to Transpilation\n",
    "\n",
    "The circuits we design are abstract. Real quantum hardware has physical constraints, such as limited qubit connectivity and a small set of native gates. **Transpilation** is the process of compiling our ideal circuit into one that can actually run on a specific quantum device."
   ]
  },
  {
   "cell_type": "markdown",
   "metadata": {},
   "source": [
    "### Hands-On: Visualizing SWAP Gate Insertion\n",
    "\n",
    "Let's see what happens when we try to run a circuit with a CNOT gate between two qubits that are not physically connected. The transpiler must insert SWAP gates to make this possible."
   ]
  },
  {
   "cell_type": "code",
   "execution_count": null,
   "metadata": {},
   "outputs": [],
   "source": [
    "# Load a fake backend that mimics a real 5-qubit machine\n",
    "backend = FakeManilaV2()\n",
    "\n",
    "# Create a circuit with a CNOT between non-adjacent qubits (0 and 4)\n",
    "qc_original = QuantumCircuit(5)\n",
    "qc_original.cx(0, 4)\n",
    "\n",
    "print(\"Original Circuit (Impossible on Hardware):\")\n",
    "display(qc_original.draw('mpl'))\n",
    "\n",
    "# Transpile the circuit for the hardware backend\n",
    "qc_transpiled = transpile(qc_original, backend)\n",
    "\n",
    "print(\"\\nTranspiled Circuit (Runnable on Hardware):\")\n",
    "display(qc_transpiled.draw('mpl'))\n",
    "print(\"Notice how the transpiler added SWAP gates to move the qubit states next to each other!\")"
   ]
  },
  {
   "cell_type": "markdown",
   "metadata": {},
   "source": [
    "---"
   ]
  },
  {
   "cell_type": "markdown",
   "metadata": {},
   "source": [
    "## Part 3: From Hardware to Algorithms (FFT vs. QFT)\n",
    "\n",
    "Now, let's build the Quantum Fourier Transform from scratch to understand its structure, and then simulate it."
   ]
  },
  {
   "cell_type": "markdown",
   "metadata": {},
   "source": [
    "### Step 1: The Classical FFT Demo\n",
    "\n",
    "First, a reminder of what a classical Fourier Transform does: it's a **frequency analyzer** that finds the constituent frequencies in a signal."
   ]
  },
  {
   "cell_type": "code",
   "execution_count": null,
   "metadata": {},
   "outputs": [],
   "source": [
    "# Create a classical signal that's a mix of two frequencies: 5 Hz and 15 Hz\n",
    "sampling_rate = 100\n",
    "duration = 1\n",
    "t = np.linspace(0, duration, int(sampling_rate * duration), endpoint=False)\n",
    "signal = np.sin(2 * np.pi * 5 * t) + 0.5 * np.sin(2 * np.pi * 15 * t)\n",
    "\n",
    "# Perform the FFT and plot the results\n",
    "fft_output = np.fft.fft(signal)\n",
    "frequencies = np.fft.fftfreq(len(signal), d=1/sampling_rate)\n",
    "fig, (ax1, ax2) = plt.subplots(1, 2, figsize=(12, 4))\n",
    "ax1.plot(t, signal)\n",
    "ax1.set_title('Original Classical Signal')\n",
    "ax1.set_xlabel('Time (s)')\n",
    "ax1.set_ylabel('Amplitude')\n",
    "ax2.stem(frequencies, np.abs(fft_output) / len(signal) * 2, basefmt=\" \")\n",
    "ax2.set_title('Frequency Spectrum (FFT)')\n",
    "ax2.set_xlabel('Frequency (Hz)')\n",
    "ax2.set_ylabel('Amplitude')\n",
    "ax2.set_xlim(0, sampling_rate / 2)\n",
    "plt.tight_layout()\n",
    "plt.show()"
   ]
  },
  {
   "cell_type": "markdown",
   "metadata": {},
   "source": [
    "### Step 2: Hands-On with the Quantum Fourier Transform\n",
    "\n",
    "Here we will build the QFT from scratch using basic gates and then apply it to an initial state."
   ]
  },
  {
   "cell_type": "code",
   "execution_count": null,
   "metadata": {},
   "outputs": [],
   "source": [
    "def qft_circuit(qc, n_qubits):\n",
    "    \"\"\"Builds a QFT circuit from scratch on the given QuantumCircuit object.\"\"\"\n",
    "    for i in range(n_qubits):\n",
    "        qc.h(i)\n",
    "        for j in range(i + 1, n_qubits):\n",
    "            qc.cp(np.pi / (2**(j - i)), i, j) # Apply controlled phase rotations\n",
    "    \n",
    "    for i in range(n_qubits // 2):\n",
    "        qc.swap(i, n_qubits - 1 - i)\n",
    "\n",
    "# Set the number of qubits\n",
    "num_qft_qubits = 5 \n",
    "\n",
    "# Create a quantum circuit\n",
    "qc_qft = QuantumCircuit(num_qft_qubits, num_qft_qubits)\n",
    "\n",
    "# Prepare an initial state (e.g., |11111>)\n",
    "for i in range(num_qft_qubits):\n",
    "    qc_qft.x(i)\n",
    "\n",
    "qc_qft.barrier() # Visual separator\n",
    "\n",
    "# Apply the QFT transformation\n",
    "qft_circuit(qc_qft, num_qft_qubits)\n",
    "\n",
    "qc_qft.barrier() # Visual separator\n",
    "\n",
    "# Measure all qubits\n",
    "qc_qft.measure(range(num_qft_qubits), range(num_qft_qubits))\n",
    "\n",
    "# Draw the QFT circuit\n",
    "print(f\"{num_qft_qubits}-Qubit Quantum Fourier Transform (QFT) Circuit Diagram:\")\n",
    "display(qc_qft.draw(output=\"mpl\", fold=-1))\n",
    "\n",
    "# Select the Aer simulator backend\n",
    "simulator = AerSimulator()\n",
    "\n",
    "# Execute the circuit\n",
    "job = simulator.run(qc_qft, shots=2048)\n",
    "result = job.result()\n",
    "counts = result.get_counts(qc_qft)\n",
    "\n",
    "print(f\"\\nMeasurement Counts for initial state |11111>:\")\n",
    "display(plot_histogram(counts))"
   ]
  },
  {
   "cell_type": "markdown",
   "metadata": {},
   "source": [
    "## End of Day 2\n",
    "\n",
    "Today we went on a journey from the physical hardware that runs quantum computations, through the crucial 'compiler' step of transpilation, and finally applied it to a foundational quantum algorithm. You are now well-equipped to understand the full stack of quantum computing. Tomorrow, we'll explore the impact of these capabilities on AI and security."
   ]
  }
 ],
 "metadata": {
  "kernelspec": {
   "display_name": "Python 3",
   "language": "python",
   "name": "python3"
  },
  "language_info": {
   "codemirror_mode": {
    "name": "ipython",
    "version": 3
   },
   "file_extension": ".py",
   "mimetype": "text/x-python",
   "name": "python",
   "nbconvert_exporter": "python",
   "pygments_lexer": "ipython3",
   "version": "3.12"
  }
 },
 "nbformat": 4,
 "nbformat_minor": 4
}
}